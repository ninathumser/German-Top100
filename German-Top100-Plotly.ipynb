{
 "cells": [
  {
   "cell_type": "code",
   "execution_count": 3,
   "metadata": {},
   "outputs": [],
   "source": [
    "import datetime as dt\n",
    "import random\n",
    "import re\n",
    "\n",
    "import numpy as np\n",
    "import pandas as pd\n",
    "import plotly.express as px\n",
    "import matplotlib.pyplot as plt\n",
    "import seaborn as sns\n",
    "\n",
    "%matplotlib inline"
   ]
  },
  {
   "cell_type": "code",
   "execution_count": 4,
   "metadata": {},
   "outputs": [],
   "source": [
    "charts = pd.read_csv('2019_top_100.csv')"
   ]
  },
  {
   "cell_type": "code",
   "execution_count": 5,
   "metadata": {},
   "outputs": [
    {
     "data": {
      "text/html": [
       "<div>\n",
       "<style scoped>\n",
       "    .dataframe tbody tr th:only-of-type {\n",
       "        vertical-align: middle;\n",
       "    }\n",
       "\n",
       "    .dataframe tbody tr th {\n",
       "        vertical-align: top;\n",
       "    }\n",
       "\n",
       "    .dataframe thead th {\n",
       "        text-align: right;\n",
       "    }\n",
       "</style>\n",
       "<table border=\"1\" class=\"dataframe\">\n",
       "  <thead>\n",
       "    <tr style=\"text-align: right;\">\n",
       "      <th></th>\n",
       "      <th>artist</th>\n",
       "      <th>song</th>\n",
       "      <th>label</th>\n",
       "      <th>position</th>\n",
       "      <th>start_date</th>\n",
       "      <th>end_date</th>\n",
       "    </tr>\n",
       "  </thead>\n",
       "  <tbody>\n",
       "    <tr>\n",
       "      <th>0</th>\n",
       "      <td>Capital Bra</td>\n",
       "      <td>Benzema</td>\n",
       "      <td>Universal Domestic Urban</td>\n",
       "      <td>1</td>\n",
       "      <td>28.12.2018</td>\n",
       "      <td>03.01.2019</td>\n",
       "    </tr>\n",
       "    <tr>\n",
       "      <th>1</th>\n",
       "      <td>Mariah Carey</td>\n",
       "      <td>All I Want For Christmas Is You</td>\n",
       "      <td>SME - Columbia</td>\n",
       "      <td>2</td>\n",
       "      <td>28.12.2018</td>\n",
       "      <td>03.01.2019</td>\n",
       "    </tr>\n",
       "    <tr>\n",
       "      <th>2</th>\n",
       "      <td>Wham!</td>\n",
       "      <td>Last Christmas</td>\n",
       "      <td>SME - Epic</td>\n",
       "      <td>3</td>\n",
       "      <td>28.12.2018</td>\n",
       "      <td>03.01.2019</td>\n",
       "    </tr>\n",
       "    <tr>\n",
       "      <th>3</th>\n",
       "      <td>Ava Max</td>\n",
       "      <td>Sweet But Psycho</td>\n",
       "      <td>Atlantic</td>\n",
       "      <td>4</td>\n",
       "      <td>28.12.2018</td>\n",
       "      <td>03.01.2019</td>\n",
       "    </tr>\n",
       "    <tr>\n",
       "      <th>4</th>\n",
       "      <td>Chris Rea</td>\n",
       "      <td>Driving Home For Christmas</td>\n",
       "      <td>Warner Music International</td>\n",
       "      <td>5</td>\n",
       "      <td>28.12.2018</td>\n",
       "      <td>03.01.2019</td>\n",
       "    </tr>\n",
       "  </tbody>\n",
       "</table>\n",
       "</div>"
      ],
      "text/plain": [
       "         artist                             song                       label  \\\n",
       "0   Capital Bra                          Benzema    Universal Domestic Urban   \n",
       "1  Mariah Carey  All I Want For Christmas Is You              SME - Columbia   \n",
       "2         Wham!                   Last Christmas                  SME - Epic   \n",
       "3       Ava Max                 Sweet But Psycho                    Atlantic   \n",
       "4     Chris Rea       Driving Home For Christmas  Warner Music International   \n",
       "\n",
       "   position  start_date    end_date  \n",
       "0         1  28.12.2018  03.01.2019  \n",
       "1         2  28.12.2018  03.01.2019  \n",
       "2         3  28.12.2018  03.01.2019  \n",
       "3         4  28.12.2018  03.01.2019  \n",
       "4         5  28.12.2018  03.01.2019  "
      ]
     },
     "execution_count": 5,
     "metadata": {},
     "output_type": "execute_result"
    }
   ],
   "source": [
    "charts.head()"
   ]
  },
  {
   "cell_type": "code",
   "execution_count": null,
   "metadata": {},
   "outputs": [],
   "source": [
    "fig = px.scatter(x=\"gdpPercap\",\n",
    "                 y=\"lifeExp\",\n",
    "                 size=\"pop\",\n",
    "                 color=\"continent\",\n",
    "                 hover_name=\"country\",\n",
    "                 log_x=True, size_max=60)\n",
    "fig.show()"
   ]
  }
 ],
 "metadata": {
  "kernelspec": {
   "display_name": "Python 3",
   "language": "python",
   "name": "python3"
  },
  "language_info": {
   "codemirror_mode": {
    "name": "ipython",
    "version": 3
   },
   "file_extension": ".py",
   "mimetype": "text/x-python",
   "name": "python",
   "nbconvert_exporter": "python",
   "pygments_lexer": "ipython3",
   "version": "3.6.10"
  }
 },
 "nbformat": 4,
 "nbformat_minor": 4
}

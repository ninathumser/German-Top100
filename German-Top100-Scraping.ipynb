{
 "cells": [
  {
   "cell_type": "code",
   "execution_count": 1,
   "metadata": {},
   "outputs": [],
   "source": [
    "from functions_scraping import select_pages, crawl_charts, create_file"
   ]
  },
  {
   "cell_type": "code",
   "execution_count": 7,
   "metadata": {},
   "outputs": [
    {
     "name": "stdout",
     "output_type": "stream",
     "text": [
      "Request:53; Frequency: 0.08549112779116107 requests/s\n"
     ]
    }
   ],
   "source": [
    "years = list(range(1996, 2001))\n",
    "\n",
    "for year in years:\n",
    "    # select pages to crawl\n",
    "    start = str(year-1) + '-12-31'\n",
    "    end = str(year) + '-12-31'\n",
    "    pages = select_pages(start, end)\n",
    "    \n",
    "    # web scraping of https://www.offiziellecharts.de for chosen dates\n",
    "    charts = crawl_charts(pages)\n",
    "    \n",
    "    # create file for year\n",
    "    create_file(charts, str(year)+'_top_100')"
   ]
  },
  {
   "cell_type": "code",
   "execution_count": null,
   "metadata": {},
   "outputs": [],
   "source": []
  }
 ],
 "metadata": {
  "kernelspec": {
   "display_name": "Python 3",
   "language": "python",
   "name": "python3"
  },
  "language_info": {
   "codemirror_mode": {
    "name": "ipython",
    "version": 3
   },
   "file_extension": ".py",
   "mimetype": "text/x-python",
   "name": "python",
   "nbconvert_exporter": "python",
   "pygments_lexer": "ipython3",
   "version": "3.6.10"
  }
 },
 "nbformat": 4,
 "nbformat_minor": 4
}

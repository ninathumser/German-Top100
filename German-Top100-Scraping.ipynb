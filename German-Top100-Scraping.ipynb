{
 "cells": [
  {
   "cell_type": "code",
   "execution_count": 1,
   "metadata": {},
   "outputs": [],
   "source": [
    "from functions_scraping import select_pages, crawl_charts, create_file"
   ]
  },
  {
   "cell_type": "code",
   "execution_count": 2,
   "metadata": {},
   "outputs": [],
   "source": [
    "import os\n",
    "import pandas as pd"
   ]
  },
  {
   "cell_type": "code",
   "execution_count": 6,
   "metadata": {},
   "outputs": [],
   "source": [
    "home = os.environ['HOME']\n",
    "path = os.path.join(home, 'top100-data')\n",
    "\n",
    "# create data folder in home directory if it does not exists\n",
    "if not os.path.exists(path):\n",
    "    os.makedirs(path)"
   ]
  },
  {
   "cell_type": "code",
   "execution_count": 9,
   "metadata": {},
   "outputs": [
    {
     "name": "stdout",
     "output_type": "stream",
     "text": [
      "Request:53; Frequency: 0.08454849055944683 requests/s\n"
     ]
    }
   ],
   "source": [
    "# scrapring charts for year 2019\n",
    "years = list(range(2019, 2020))\n",
    "\n",
    "for year in years:\n",
    "    # select pages to crawl\n",
    "    start = str(year-1) + '-12-31'\n",
    "    end = str(year) + '-12-31'\n",
    "    pages = select_pages(start, end)\n",
    "    \n",
    "    # web scraping of https://www.offiziellecharts.de for chosen dates\n",
    "    charts = crawl_charts(pages)\n",
    "    \n",
    "    # create file for year\n",
    "    create_file(charts, os.path.join(path, str(year)+'_top_100'))"
   ]
  },
  {
   "cell_type": "code",
   "execution_count": 29,
   "metadata": {},
   "outputs": [],
   "source": [
    "# create empty dataframe\n",
    "alltime = pd.DataFrame()\n",
    "\n",
    "# combine pickle files of all years into one dataframe \n",
    "for filename in os.listdir(path):\n",
    "    if filename.endswith(\"_top_100\"):\n",
    "        df = pd.read_pickle(filename)\n",
    "        alltime = alltime.append(df, ignore_index=True)"
   ]
  },
  {
   "cell_type": "code",
   "execution_count": 32,
   "metadata": {},
   "outputs": [],
   "source": [
    "# save dataframe to pickle\n",
    "alltime.to_pickle(os.path.join(path, 'alltime_top_100'))"
   ]
  },
  {
   "cell_type": "code",
   "execution_count": null,
   "metadata": {},
   "outputs": [],
   "source": []
  }
 ],
 "metadata": {
  "kernelspec": {
   "display_name": "Python 3",
   "language": "python",
   "name": "python3"
  },
  "language_info": {
   "codemirror_mode": {
    "name": "ipython",
    "version": 3
   },
   "file_extension": ".py",
   "mimetype": "text/x-python",
   "name": "python",
   "nbconvert_exporter": "python",
   "pygments_lexer": "ipython3",
   "version": "3.6.10"
  }
 },
 "nbformat": 4,
 "nbformat_minor": 4
}

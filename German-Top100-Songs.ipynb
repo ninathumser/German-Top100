{
 "cells": [
  {
   "cell_type": "code",
   "execution_count": 1,
   "metadata": {},
   "outputs": [],
   "source": [
    "GENIUS_API_TOKEN='genius_credentials'"
   ]
  },
  {
   "cell_type": "code",
   "execution_count": 9,
   "metadata": {},
   "outputs": [],
   "source": [
    "# Make HTTP requests\n",
    "import requests\n",
    "# Scrape data from an HTML document\n",
    "from bs4 import BeautifulSoup\n",
    "# I/O\n",
    "import os\n",
    "# Search and manipulate strings\n",
    "import re"
   ]
  },
  {
   "cell_type": "code",
   "execution_count": 10,
   "metadata": {},
   "outputs": [
    {
     "name": "stdout",
     "output_type": "stream",
     "text": [
      "Found 2 songs by Morlockk Dilemma\n"
     ]
    }
   ],
   "source": [
    "# Get artist object from Genius API\n",
    "def request_artist_info(artist_name, page):\n",
    "    base_url = 'https://api.genius.com'\n",
    "    headers = {'Authorization': 'Bearer ' + GENIUS_API_TOKEN}\n",
    "    search_url = base_url + '/search?per_page=10&page=' + str(page)\n",
    "    data = {'q': artist_name}\n",
    "    response = requests.get(search_url, data=data, headers=headers)\n",
    "    return response\n",
    "\n",
    "# Get Genius.com song url's from artist object\n",
    "def request_song_url(artist_name, song_cap):\n",
    "    page = 1\n",
    "    songs = []\n",
    "    \n",
    "    while True:\n",
    "        response = request_artist_info(artist_name, page)\n",
    "        json = response.json()\n",
    "        # Collect up to song_cap song objects from artist\n",
    "        song_info = []\n",
    "        for hit in json['response']['hits']:\n",
    "            if artist_name.lower() in hit['result']['primary_artist']['name'].lower():\n",
    "                song_info.append(hit)\n",
    "                #print(hit['result']['url'])\n",
    "    \n",
    "        # Collect song URL's from song objects\n",
    "        for song in song_info:\n",
    "            if (len(songs) < song_cap):\n",
    "                url = song['result']['url']\n",
    "                songs.append(url)\n",
    "            \n",
    "        if (len(songs) == song_cap):\n",
    "            break\n",
    "        else:\n",
    "            page += 1\n",
    "        \n",
    "    print('Found {} songs by {}'.format(len(songs), artist_name))\n",
    "    return songs\n",
    "    \n",
    "# DEMO\n",
    "morlockk = request_song_url('Morlockk Dilemma', 2)"
   ]
  },
  {
   "cell_type": "code",
   "execution_count": 11,
   "metadata": {},
   "outputs": [],
   "source": [
    "# Scrape lyrics from a Genius.com song URL\n",
    "def scrape_song_lyrics(url):\n",
    "    page = requests.get(url)\n",
    "    html = BeautifulSoup(page.text, 'html.parser')\n",
    "    lyrics = html.find('div', class_='lyrics').get_text()\n",
    "    #remove identifiers like chorus, verse, etc\n",
    "    lyrics = re.sub(r'[\\(\\[].*?[\\)\\]]', '', lyrics)\n",
    "    #remove empty lines\n",
    "    lyrics = os.linesep.join([s for s in lyrics.splitlines() if s])         \n",
    "    return lyrics"
   ]
  },
  {
   "cell_type": "code",
   "execution_count": 12,
   "metadata": {},
   "outputs": [],
   "source": [
    "# Get artist object from Genius API\n",
    "def request_song_info(song_title, page):\n",
    "    base_url = 'https://api.genius.com'\n",
    "    headers = {'Authorization': 'Bearer ' + GENIUS_API_TOKEN}\n",
    "    search_url = base_url + '/search?per_page=10&page=' + str(page)\n",
    "    data = {'q': song_title}\n",
    "    response = requests.get(search_url, data=data, headers=headers)\n",
    "    return response\n",
    "\n",
    "# Get song url form Genius API\n",
    "def scrape_lyrics_genre(url):\n",
    "    page = requests.get(url)\n",
    "    html = BeautifulSoup(page.text, 'html.parser')\n",
    "    lyrics = html.find('div', class_='lyrics').get_text()\n",
    "    #remove identifiers like chorus, verse, etc\n",
    "    lyrics = re.sub(r'[\\(\\[].*?[\\)\\]]', '', lyrics)\n",
    "    #remove empty lines\n",
    "    lyrics = lyrics.replace('\\n', ' ')\n",
    "    \n",
    "    #genre = html.find('a', {'class': 'metadata_with_icon-tags-primary_tag'})\n",
    "    return lyrics #, genre\n",
    "\n",
    "\n",
    "# Get Genius.com lyrics from song object\n",
    "def request_song_lyrics(song_title, artist_name):\n",
    "    page = 1\n",
    "    \n",
    "    response = request_song_info(song_title, page)\n",
    "    json = response.json()\n",
    "\n",
    "    # Collect song objects\n",
    "    song_info = {}\n",
    "    song = json['response']['hits'][0]['result']\n",
    "    if song_title.lower() in song['title'].lower() and artist_name.lower() in song['primary_artist']['name'].lower():\n",
    "        url = song['url']\n",
    "        lyrics = scrape_lyrics_genre(url)\n",
    "        song_info[song_title] = lyrics\n",
    "        \n",
    "    return song_info\n",
    "    \n",
    "# DEMO\n",
    "mamma = request_song_lyrics('Mamma mia', 'ABBA')"
   ]
  },
  {
   "cell_type": "code",
   "execution_count": 13,
   "metadata": {},
   "outputs": [
    {
     "data": {
      "text/plain": [
       "{'Mamma mia': \"   I've been cheated by you since I don't know when So I made up my mind, it must come to an end Look at me now, will I ever learn? I don't know how, but I suddenly lose control There's a fire within my soul   Just one look and I can hear a bell ring One more look and I forget everything, woah   Mamma mia, here I go again My my, how can I resist you? Mamma mia, does it show again? My my, just how much I've missed you Yes, I've been brokenhearted Blue since the day we parted Why, why did I ever let you go? Mamma mia, now I really know My my, I could never let you go   I've been angry and sad about things that you do I can't count all the times that I've told you we're through And when you go, when you slam the door I think you know that you won't be away too long You know that I'm not that strong   Just one look and I can hear a bell ring One more look and I forget everything, woah   Mamma mia, here I go again My my, how can I resist you? Mamma mia, does it show again? My my, just how much I've missed you Yes, I've been brokenhearted Blue since the day we parted Why, why did I ever let you go? Mamma mia, even if I say Bye bye, leave me now or never Mamma mia, it's a game we play Bye bye doesn't mean forever Mamma mia, here I go again My my, how can I resist you? Mamma mia, does it show again? My my, just how much I've missed you Yes, I've been brokenhearted Blue since the day we parted Why, why did I ever let you go? Mamma mia, now I really know My my, I could never let you go  \"}"
      ]
     },
     "execution_count": 13,
     "metadata": {},
     "output_type": "execute_result"
    }
   ],
   "source": [
    "mamma"
   ]
  },
  {
   "cell_type": "code",
   "execution_count": null,
   "metadata": {},
   "outputs": [],
   "source": []
  }
 ],
 "metadata": {
  "kernelspec": {
   "display_name": "Python 3",
   "language": "python",
   "name": "python3"
  },
  "language_info": {
   "codemirror_mode": {
    "name": "ipython",
    "version": 3
   },
   "file_extension": ".py",
   "mimetype": "text/x-python",
   "name": "python",
   "nbconvert_exporter": "python",
   "pygments_lexer": "ipython3",
   "version": "3.6.10"
  }
 },
 "nbformat": 4,
 "nbformat_minor": 4
}

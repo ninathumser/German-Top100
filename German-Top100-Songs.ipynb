{
 "cells": [
  {
   "cell_type": "code",
   "execution_count": 1,
   "metadata": {},
   "outputs": [],
   "source": [
    "GENIUS_API_TOKEN='genius_credentials'"
   ]
  },
  {
   "cell_type": "code",
   "execution_count": 61,
   "metadata": {},
   "outputs": [],
   "source": [
    "# Make HTTP requests\n",
    "import requests\n",
    "# Scrape data from an HTML document\n",
    "from bs4 import BeautifulSoup\n",
    "# I/O\n",
    "import os\n",
    "# Search and manipulate strings\n",
    "import re"
   ]
  },
  {
   "cell_type": "code",
   "execution_count": 56,
   "metadata": {},
   "outputs": [
    {
     "name": "stdout",
     "output_type": "stream",
     "text": [
      "Found 2 songs by ABBA\n"
     ]
    },
    {
     "data": {
      "text/plain": [
       "['https://genius.com/Abba-mamma-mia-lyrics',\n",
       " 'https://genius.com/Abba-dancing-queen-lyrics']"
      ]
     },
     "execution_count": 56,
     "metadata": {},
     "output_type": "execute_result"
    }
   ],
   "source": [
    "# Get artist object from Genius API\n",
    "def request_artist_info(artist_name, page):\n",
    "    base_url = 'https://api.genius.com'\n",
    "    headers = {'Authorization': 'Bearer ' + GENIUS_API_TOKEN}\n",
    "    search_url = base_url + '/search?per_page=10&page=' + str(page)\n",
    "    data = {'q': artist_name}\n",
    "    response = requests.get(search_url, data=data, headers=headers)\n",
    "    return response\n",
    "\n",
    "# Get Genius.com song url's from artist object\n",
    "def request_song_url(artist_name, song_cap):\n",
    "    page = 1\n",
    "    songs = []\n",
    "    \n",
    "    while True:\n",
    "        response = request_artist_info(artist_name, page)\n",
    "        json = response.json()\n",
    "        # Collect up to song_cap song objects from artist\n",
    "        song_info = []\n",
    "        for hit in json['response']['hits']:\n",
    "            if artist_name.lower() in hit['result']['primary_artist']['name'].lower():\n",
    "                song_info.append(hit)\n",
    "    \n",
    "        # Collect song URL's from song objects\n",
    "        for song in song_info:\n",
    "            if (len(songs) < song_cap):\n",
    "                url = song['result']['url']\n",
    "                songs.append(url)\n",
    "            \n",
    "        if (len(songs) == song_cap):\n",
    "            break\n",
    "        else:\n",
    "            page += 1\n",
    "        \n",
    "    print('Found {} songs by {}'.format(len(songs), artist_name))\n",
    "    return songs\n",
    "    \n",
    "# DEMO\n",
    "morlockk = request_song_url('ABBA', 2)\n",
    "morlockk"
   ]
  },
  {
   "cell_type": "code",
   "execution_count": 101,
   "metadata": {},
   "outputs": [],
   "source": [
    "# Scrape lyrics from a Genius.com song URL\n",
    "def scrape_song_lyrics(url):\n",
    "    page = requests.get(url)\n",
    "    html = BeautifulSoup(page.text, 'html.parser')\n",
    "    lyrics = html.find('div', class_='lyrics').get_text()\n",
    "    #remove identifiers like chorus, verse, etc\n",
    "    lyrics = re.sub(r'[\\(\\[].*?[\\)\\]]', '', lyrics)\n",
    "    #remove empty lines\n",
    "    lyrics = os.linesep.join([s for s in lyrics.splitlines() if s])         \n",
    "    return lyrics"
   ]
  },
  {
   "cell_type": "code",
   "execution_count": 104,
   "metadata": {},
   "outputs": [
    {
     "name": "stdout",
     "output_type": "stream",
     "text": [
      "https://genius.com/Morlockk-dilemma-napalmregen-lyrics\n"
     ]
    }
   ],
   "source": [
    "# Get artist object from Genius API\n",
    "def request_song_info(song_title, page):\n",
    "    base_url = 'https://api.genius.com'\n",
    "    headers = {'Authorization': 'Bearer ' + GENIUS_API_TOKEN}\n",
    "    search_url = base_url + '/search?per_page=10&page=' + str(page)\n",
    "    data = {'q': song_title}\n",
    "    response = requests.get(search_url, data=data, headers=headers)\n",
    "    return response\n",
    "\n",
    "# Get song url form Genius API\n",
    "def scrape_lyrics_genre(url):\n",
    "    page = requests.get(url)\n",
    "    html = BeautifulSoup(page.text, 'html.parser')\n",
    "    lyrics = html.find('div', class_='lyrics').get_text()\n",
    "    #remove identifiers like chorus, verse, etc\n",
    "    lyrics = re.sub(r'[\\(\\[].*?[\\)\\]]', '', lyrics)\n",
    "    #remove empty lines\n",
    "    lyrics = lyrics.replace('\\n', ' ')\n",
    "    return lyrics\n",
    "\n",
    "\n",
    "# Get Genius.com lyrics from song object\n",
    "def request_song_lyrics(song_title, artist_name):\n",
    "    page = 1\n",
    "    \n",
    "    response = request_song_info(song_title, page)\n",
    "    json = response.json()\n",
    "\n",
    "    # Collect song objects\n",
    "    song_info = {}\n",
    "    song = json['response']['hits'][0]['result']\n",
    "    if song_title.lower() in song['title'].lower() and artist_name.lower() in song['primary_artist']['name'].lower():\n",
    "        url = song['url']\n",
    "        lyrics = scrape_lyrics_genre(url)\n",
    "        song_info[song_title] = lyrics\n",
    "    print(url)    \n",
    "    return song_info\n",
    "    \n",
    "# DEMO\n",
    "napalm = request_song_lyrics('Napalmregen', 'Morlockk Dilemma')"
   ]
  },
  {
   "cell_type": "code",
   "execution_count": 105,
   "metadata": {},
   "outputs": [
    {
     "data": {
      "text/plain": [
       "{'Napalmregen': \"   Yo, ich bin zurück in dem Mutterfick Und Rapper wagen keinen Schritt ohne Schulterblick In meiner Gegend ist Leben nichts wert Und die Wege des Herrn führ'n in den Gegenverkehr  Ich treffe deine Freundin im Sommerkleid Näh' ihre Titten auf ihr Kreuz für den Doggy-Style Deine Sarah wird so brutal in den Mund gebumst Doch ich tat's für den Untergrund Sie gibt mir Schädel wie Guillotinen Auf dem Bettvorleger mit Tiermotiven Sieh', das sind niedere Triebe Und über ihrer Vagina klebt jetzt ein Kriposiegel Rapper werden geopfert für Luzifer Bin so abgehoben, ich boxe den Jupiter Zieh' eine Mac-10 im Lapdance-Club Der Letzte, der nach meinem Mic griff, war Captain Hook   Über der Szene kreisen Rabenvögel Stapelt die Leichen in den Straßengräben Ein kurzes Brennen in den Atemwegen Denn das ist Napalmregen über Ferropolis  Liebesgrüße aus der Stratosphäre Stapelt die Leichen in den Straßengräben Ein kurzes Brennen in den Atemwegen Denn das ist Napalmregen über Ferropolis   Ich lass' es nicht zu mich maßregeln zu lassen Denn aus mir sprechen drei Jahrzehnte des Hasses Nach einem Jab bist du sprachfehlerbehaftet Und suchst die Polypen wie bei der Darmkrebsprophylaxe Einhundert Kilo Zorn in Wu-Tang-Boots Zieh'n eine Schneise der Gewalt durch das Gutmensch'tum Ihr habt in Schampus gebadet als ich das Buß-Hemd trug Jetzt schlag' ich Rappern die Fresse blau wie bei Blue Man Group Sieh' her, am Mikro regiert 'ne riesige Rivalität Doch verzieh' ich die Miene flieh'n sie ins Krisengespräch Diese Verlierer mieten sich Beamer zum Videodreh Schiel'n auf den Titel doch überspiel'n ihre Identität Wirst auf der Bühne niedergeprügelt vertieft ins Gebet Und spürst die wütenden Riemenhiebe im Nierengefäß Ja du kriegst mies auf den Kiefer, dass nicht mal ein Bibelkapitel zitierender Priester dich je wieder wiederbelebt   Über der Szene kreisen Rabenvögel Stapelt die Leichen in den Straßengräben Ein kurzes Brennen in den Atemwegen Denn das ist Napalmregen über Ferropolis  Liebesgrüße aus der Stratosphäre Stapelt die Leichen in den Straßengräben Ein kurzes Brennen in den Atemwegen Denn das ist Napalmregen über Ferropolis  \"}"
      ]
     },
     "execution_count": 105,
     "metadata": {},
     "output_type": "execute_result"
    }
   ],
   "source": [
    "napalm"
   ]
  },
  {
   "cell_type": "code",
   "execution_count": 77,
   "metadata": {},
   "outputs": [],
   "source": [
    "import lyricsgenius as lg\n",
    "\n",
    "genius = lg.Genius('genius_credentials',  # Client access token from Genius Client API page\n",
    "                             skip_non_songs=True,\n",
    "                             remove_section_headers=True)"
   ]
  },
  {
   "cell_type": "code",
   "execution_count": 79,
   "metadata": {},
   "outputs": [
    {
     "name": "stdout",
     "output_type": "stream",
     "text": [
      "Searching for songs by ABBA...\n",
      "\n",
      "Song 1: \"Mamma Mia\"\n",
      "Song 2: \"Dancing Queen\"\n",
      "Song 3: \"The Winner Takes It All\"\n",
      "\n",
      "Reached user-specified song limit (3).\n",
      "Done. Found 3 songs.\n",
      "Songs grabbed:3\n",
      "Searching for songs by Morlockk Dilemma...\n",
      "\n",
      "Song 1: \"Napalmregen\"\n",
      "Song 2: \"Der Baum\"\n",
      "Song 3: \"Portwein\"\n",
      "\n",
      "Reached user-specified song limit (3).\n",
      "Done. Found 3 songs.\n",
      "Songs grabbed:3\n",
      "Searching for songs by Apache 207...\n",
      "\n",
      "Song 1: \"Roller\"\n",
      "Song 2: \"Wieso tust Du dir das an?\"\n",
      "Song 3: \"Fame\"\n",
      "\n",
      "Reached user-specified song limit (3).\n",
      "Done. Found 3 songs.\n",
      "Songs grabbed:3\n"
     ]
    }
   ],
   "source": [
    "file = open(\"./lyrics_1.txt\", \"w\")  # File to write lyrics to\n",
    "\n",
    "artists = ['ABBA', 'Morlockk Dilemma', 'Apache 207']\n",
    "\n",
    "\n",
    "def get_lyrics(arr, k):  # Write lyrics of k songs by each artist in arr\n",
    "    c = 0  # Counter\n",
    "    for name in arr:\n",
    "        try:\n",
    "            songs = (genius.search_artist(name, max_songs=k, sort='popularity')).songs\n",
    "            s = [song.lyrics for song in songs]\n",
    "            file.write(\"\\n \\n   <|endoftext|>   \\n \\n\".join(s))  # Deliminator\n",
    "            c += 1\n",
    "            print(f\"Songs grabbed:{len(s)}\")\n",
    "        except:  #  Broad catch which will give us the name of artist and song that threw the exception\n",
    "            print(f\"some exception at {name}: {c}\")\n",
    "\n",
    "\n",
    "get_lyrics(artists, 3)"
   ]
  },
  {
   "cell_type": "code",
   "execution_count": 119,
   "metadata": {},
   "outputs": [],
   "source": [
    "import pandas as pd"
   ]
  },
  {
   "cell_type": "code",
   "execution_count": 130,
   "metadata": {},
   "outputs": [
    {
     "name": "stdout",
     "output_type": "stream",
     "text": [
      "Searching for \"Roller\"...\n",
      "Done.\n",
      "Searching for \"Napalmregen\"...\n",
      "Done.\n",
      "Searching for \"Mamma Mia\"...\n",
      "Done.\n"
     ]
    },
    {
     "data": {
      "text/html": [
       "<div>\n",
       "<style scoped>\n",
       "    .dataframe tbody tr th:only-of-type {\n",
       "        vertical-align: middle;\n",
       "    }\n",
       "\n",
       "    .dataframe tbody tr th {\n",
       "        vertical-align: top;\n",
       "    }\n",
       "\n",
       "    .dataframe thead th {\n",
       "        text-align: right;\n",
       "    }\n",
       "</style>\n",
       "<table border=\"1\" class=\"dataframe\">\n",
       "  <thead>\n",
       "    <tr style=\"text-align: right;\">\n",
       "      <th></th>\n",
       "      <th>title</th>\n",
       "      <th>lyrics</th>\n",
       "    </tr>\n",
       "  </thead>\n",
       "  <tbody>\n",
       "    <tr>\n",
       "      <th>0</th>\n",
       "      <td>Roller</td>\n",
       "      <td>Lucry Suena  Warum fickt ihr Kopf, Kopf? Mein ...</td>\n",
       "    </tr>\n",
       "    <tr>\n",
       "      <th>1</th>\n",
       "      <td>Napalmregen</td>\n",
       "      <td>Yo, ich bin zurück in dem Mutterfick Und Rappe...</td>\n",
       "    </tr>\n",
       "    <tr>\n",
       "      <th>2</th>\n",
       "      <td>Mamma Mia</td>\n",
       "      <td>I've been cheated by you since I don't know wh...</td>\n",
       "    </tr>\n",
       "  </tbody>\n",
       "</table>\n",
       "</div>"
      ],
      "text/plain": [
       "         title                                             lyrics\n",
       "0       Roller  Lucry Suena  Warum fickt ihr Kopf, Kopf? Mein ...\n",
       "1  Napalmregen  Yo, ich bin zurück in dem Mutterfick Und Rappe...\n",
       "2    Mamma Mia  I've been cheated by you since I don't know wh..."
      ]
     },
     "execution_count": 130,
     "metadata": {},
     "output_type": "execute_result"
    }
   ],
   "source": [
    "lyrics = pd.DataFrame(columns=['title', 'lyrics'])\n",
    "\n",
    "songs = ['Roller', 'Napalmregen', 'Mamma Mia']\n",
    "\n",
    "def get_lyrics(df, arr):  # Write lyrics of k songs by each artist in arr\n",
    "    for name in arr:\n",
    "        l = genius.search_song(name).lyrics\n",
    "        l = re.sub(r'[\\(\\[].*?[\\)\\]]', '', l)\n",
    "        l = re.sub('\\n', ' ', l)\n",
    "        df = df.append({'title': name, 'lyrics': l}, ignore_index=True)\n",
    "        \n",
    "    return df\n",
    "\n",
    "get_lyrics(lyrics, songs)"
   ]
  },
  {
   "cell_type": "code",
   "execution_count": 128,
   "metadata": {},
   "outputs": [
    {
     "data": {
      "text/html": [
       "<div>\n",
       "<style scoped>\n",
       "    .dataframe tbody tr th:only-of-type {\n",
       "        vertical-align: middle;\n",
       "    }\n",
       "\n",
       "    .dataframe tbody tr th {\n",
       "        vertical-align: top;\n",
       "    }\n",
       "\n",
       "    .dataframe thead th {\n",
       "        text-align: right;\n",
       "    }\n",
       "</style>\n",
       "<table border=\"1\" class=\"dataframe\">\n",
       "  <thead>\n",
       "    <tr style=\"text-align: right;\">\n",
       "      <th></th>\n",
       "      <th>title</th>\n",
       "      <th>lyrics</th>\n",
       "    </tr>\n",
       "  </thead>\n",
       "  <tbody>\n",
       "  </tbody>\n",
       "</table>\n",
       "</div>"
      ],
      "text/plain": [
       "Empty DataFrame\n",
       "Columns: [title, lyrics]\n",
       "Index: []"
      ]
     },
     "execution_count": 128,
     "metadata": {},
     "output_type": "execute_result"
    }
   ],
   "source": [
    "lyrics"
   ]
  },
  {
   "cell_type": "code",
   "execution_count": null,
   "metadata": {},
   "outputs": [],
   "source": []
  }
 ],
 "metadata": {
  "kernelspec": {
   "display_name": "Python 3",
   "language": "python",
   "name": "python3"
  },
  "language_info": {
   "codemirror_mode": {
    "name": "ipython",
    "version": 3
   },
   "file_extension": ".py",
   "mimetype": "text/x-python",
   "name": "python",
   "nbconvert_exporter": "python",
   "pygments_lexer": "ipython3",
   "version": "3.6.10"
  }
 },
 "nbformat": 4,
 "nbformat_minor": 4
}

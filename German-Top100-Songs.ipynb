{
 "cells": [
  {
   "cell_type": "code",
   "execution_count": 1,
   "metadata": {},
   "outputs": [],
   "source": [
    "GENIUS_API_TOKEN='genius_credentials'"
   ]
  },
  {
   "cell_type": "code",
   "execution_count": 8,
   "metadata": {},
   "outputs": [],
   "source": [
    "# Make HTTP requests\n",
    "import requests\n",
    "# Scrape data from an HTML document\n",
    "from bs4 import BeautifulSoup\n",
    "# I/O\n",
    "import os\n",
    "# Search and manipulate strings\n",
    "import re\n",
    "\n",
    "import numpy as np\n",
    "import pandas as pd\n",
    "import pickle"
   ]
  },
  {
   "cell_type": "code",
   "execution_count": 3,
   "metadata": {},
   "outputs": [
    {
     "name": "stdout",
     "output_type": "stream",
     "text": [
      "Found 2 songs by ABBA\n"
     ]
    },
    {
     "data": {
      "text/plain": [
       "['https://genius.com/Abba-mamma-mia-lyrics',\n",
       " 'https://genius.com/Abba-dancing-queen-lyrics']"
      ]
     },
     "execution_count": 3,
     "metadata": {},
     "output_type": "execute_result"
    }
   ],
   "source": [
    "# Get artist object from Genius API\n",
    "def request_artist_info(artist_name, page):\n",
    "    base_url = 'https://api.genius.com'\n",
    "    headers = {'Authorization': 'Bearer ' + GENIUS_API_TOKEN}\n",
    "    search_url = base_url + '/search?per_page=10&page=' + str(page)\n",
    "    data = {'q': artist_name}\n",
    "    response = requests.get(search_url, data=data, headers=headers)\n",
    "    return response\n",
    "\n",
    "# Get Genius.com song url's from artist object\n",
    "def request_song_url(artist_name, song_cap):\n",
    "    page = 1\n",
    "    songs = []\n",
    "    \n",
    "    while True:\n",
    "        response = request_artist_info(artist_name, page)\n",
    "        json = response.json()\n",
    "        # Collect up to song_cap song objects from artist\n",
    "        song_info = []\n",
    "        for hit in json['response']['hits']:\n",
    "            if artist_name.lower() in hit['result']['primary_artist']['name'].lower():\n",
    "                song_info.append(hit)\n",
    "    \n",
    "        # Collect song URL's from song objects\n",
    "        for song in song_info:\n",
    "            if (len(songs) < song_cap):\n",
    "                url = song['result']['url']\n",
    "                songs.append(url)\n",
    "            \n",
    "        if (len(songs) == song_cap):\n",
    "            break\n",
    "        else:\n",
    "            page += 1\n",
    "        \n",
    "    print('Found {} songs by {}'.format(len(songs), artist_name))\n",
    "    return songs\n",
    "    \n",
    "# DEMO\n",
    "abba = request_song_url('ABBA', 2)\n",
    "abba"
   ]
  },
  {
   "cell_type": "code",
   "execution_count": 4,
   "metadata": {},
   "outputs": [],
   "source": [
    "# Scrape lyrics from a Genius.com song URL\n",
    "def scrape_song_lyrics(url):\n",
    "    page = requests.get(url)\n",
    "    html = BeautifulSoup(page.text, 'html.parser')\n",
    "    lyrics = html.find('div', class_='lyrics').get_text()\n",
    "    #remove identifiers like chorus, verse, etc\n",
    "    lyrics = re.sub(r'[\\(\\[].*?[\\)\\]]', '', lyrics)\n",
    "    #remove empty lines\n",
    "    lyrics = os.linesep.join([s for s in lyrics.splitlines() if s])         \n",
    "    return lyrics"
   ]
  },
  {
   "cell_type": "code",
   "execution_count": 117,
   "metadata": {},
   "outputs": [],
   "source": [
    "# Get artist object from Genius API\n",
    "def request_song_info(song_title, artist_name, page):\n",
    "    base_url = 'https://api.genius.com'\n",
    "    headers = {'Authorization': 'Bearer ' + GENIUS_API_TOKEN}\n",
    "    search_url = base_url + '/search?per_page=10&page=' + str(page)\n",
    "    data = {'q': song_title + ' ' + artist_name}\n",
    "    response = requests.get(search_url, data=data, headers=headers)\n",
    "    return response\n",
    "\n",
    "\n",
    "# Get Genius.com lyrics from song object\n",
    "def request_song_lyrics(song_title, artist_name):\n",
    "    page = 1\n",
    "    response = request_song_info(song_title, artist_name, page)\n",
    "    json = response.json()\n",
    "\n",
    "    # Collect song objects\n",
    "    song = json['response']['hits'][0]['result']\n",
    "    artist_first_name = re.findall(r'\\w+', artist_name)[0]\n",
    "    if song_title.lower() in song['title'].lower() and artist_first_name.lower() in song['primary_artist']['name'].lower():\n",
    "        url = song['url']\n",
    "        page = requests.get(url)\n",
    "        html = BeautifulSoup(page.text, 'html.parser')\n",
    "        \n",
    "        lyrics = html.find('div', class_='lyrics').get_text()\n",
    "        #remove identifiers like chorus, verse, etc\n",
    "        lyrics = re.sub(r'[\\(\\[].*?[\\)\\]]', '', lyrics)\n",
    "        #remove empty lines\n",
    "        lyrics = lyrics.replace('\\n', ' ')\n",
    "\n",
    "    else:\n",
    "        lyrics = np.NaN\n",
    "\n",
    "    return lyrics\n",
    "\n",
    "\n",
    "# Create dataframe of all lyrics\n",
    "def create_lyrics_df(df, song_list):\n",
    "    for song in song_list:\n",
    "        artist, track = song.split(' - ')[0], song.split(' - ')[1]\n",
    "        artist_name_list = re.findall(r'\\w+', artist)\n",
    "        artist_first_name = ' '.join(artist_name_list[:2])\n",
    "        print(artist_first_name, track)\n",
    "        \n",
    "        try:\n",
    "            l =  request_song_lyrics(track, artist_first_name)\n",
    "        except:\n",
    "            l = np.NaN\n",
    "            \n",
    "        df = df.append({'artist': artist, 'title': track, 'lyrics': l}, ignore_index=True)\n",
    "        \n",
    "    return df"
   ]
  },
  {
   "cell_type": "code",
   "execution_count": 118,
   "metadata": {},
   "outputs": [
    {
     "ename": "AttributeError",
     "evalue": "'NoneType' object has no attribute 'get_text'",
     "output_type": "error",
     "traceback": [
      "\u001b[0;31m---------------------------------------------------------------------------\u001b[0m",
      "\u001b[0;31mAttributeError\u001b[0m                            Traceback (most recent call last)",
      "\u001b[0;32m<ipython-input-118-e65d405f3cdf>\u001b[0m in \u001b[0;36m<module>\u001b[0;34m\u001b[0m\n\u001b[0;32m----> 1\u001b[0;31m \u001b[0mrequest_song_lyrics\u001b[0m\u001b[0;34m(\u001b[0m\u001b[0;34m'Napalmregen'\u001b[0m\u001b[0;34m,\u001b[0m \u001b[0;34m'Morlockk Dilemma'\u001b[0m\u001b[0;34m)\u001b[0m\u001b[0;34m\u001b[0m\u001b[0;34m\u001b[0m\u001b[0m\n\u001b[0m",
      "\u001b[0;32m<ipython-input-117-98952d9a1453>\u001b[0m in \u001b[0;36mrequest_song_lyrics\u001b[0;34m(song_title, artist_name)\u001b[0m\n\u001b[1;32m     23\u001b[0m         \u001b[0mhtml\u001b[0m \u001b[0;34m=\u001b[0m \u001b[0mBeautifulSoup\u001b[0m\u001b[0;34m(\u001b[0m\u001b[0mpage\u001b[0m\u001b[0;34m.\u001b[0m\u001b[0mtext\u001b[0m\u001b[0;34m,\u001b[0m \u001b[0;34m'html.parser'\u001b[0m\u001b[0;34m)\u001b[0m\u001b[0;34m\u001b[0m\u001b[0;34m\u001b[0m\u001b[0m\n\u001b[1;32m     24\u001b[0m \u001b[0;34m\u001b[0m\u001b[0m\n\u001b[0;32m---> 25\u001b[0;31m         \u001b[0mlyrics\u001b[0m \u001b[0;34m=\u001b[0m \u001b[0mhtml\u001b[0m\u001b[0;34m.\u001b[0m\u001b[0mfind\u001b[0m\u001b[0;34m(\u001b[0m\u001b[0;34m'div'\u001b[0m\u001b[0;34m,\u001b[0m \u001b[0mclass_\u001b[0m\u001b[0;34m=\u001b[0m\u001b[0;34m'lyrics'\u001b[0m\u001b[0;34m)\u001b[0m\u001b[0;34m.\u001b[0m\u001b[0mget_text\u001b[0m\u001b[0;34m(\u001b[0m\u001b[0;34m)\u001b[0m\u001b[0;34m\u001b[0m\u001b[0;34m\u001b[0m\u001b[0m\n\u001b[0m\u001b[1;32m     26\u001b[0m         \u001b[0;31m#remove identifiers like chorus, verse, etc\u001b[0m\u001b[0;34m\u001b[0m\u001b[0;34m\u001b[0m\u001b[0;34m\u001b[0m\u001b[0m\n\u001b[1;32m     27\u001b[0m         \u001b[0mlyrics\u001b[0m \u001b[0;34m=\u001b[0m \u001b[0mre\u001b[0m\u001b[0;34m.\u001b[0m\u001b[0msub\u001b[0m\u001b[0;34m(\u001b[0m\u001b[0;34mr'[\\(\\[].*?[\\)\\]]'\u001b[0m\u001b[0;34m,\u001b[0m \u001b[0;34m''\u001b[0m\u001b[0;34m,\u001b[0m \u001b[0mlyrics\u001b[0m\u001b[0;34m)\u001b[0m\u001b[0;34m\u001b[0m\u001b[0;34m\u001b[0m\u001b[0m\n",
      "\u001b[0;31mAttributeError\u001b[0m: 'NoneType' object has no attribute 'get_text'"
     ]
    }
   ],
   "source": [
    "request_song_lyrics('Napalmregen', 'Morlockk Dilemma')"
   ]
  },
  {
   "cell_type": "code",
   "execution_count": 119,
   "metadata": {},
   "outputs": [
    {
     "ename": "AttributeError",
     "evalue": "'NoneType' object has no attribute 'get_text'",
     "output_type": "error",
     "traceback": [
      "\u001b[0;31m---------------------------------------------------------------------------\u001b[0m",
      "\u001b[0;31mAttributeError\u001b[0m                            Traceback (most recent call last)",
      "\u001b[0;32m<ipython-input-119-180d8cab6eba>\u001b[0m in \u001b[0;36m<module>\u001b[0;34m\u001b[0m\n\u001b[0;32m----> 1\u001b[0;31m \u001b[0mrequest_song_lyrics\u001b[0m\u001b[0;34m(\u001b[0m\u001b[0;34m'110'\u001b[0m \u001b[0;34m,\u001b[0m\u001b[0;34m'Capital Bra, Samra & Lea'\u001b[0m\u001b[0;34m)\u001b[0m\u001b[0;34m\u001b[0m\u001b[0;34m\u001b[0m\u001b[0m\n\u001b[0m",
      "\u001b[0;32m<ipython-input-117-98952d9a1453>\u001b[0m in \u001b[0;36mrequest_song_lyrics\u001b[0;34m(song_title, artist_name)\u001b[0m\n\u001b[1;32m     23\u001b[0m         \u001b[0mhtml\u001b[0m \u001b[0;34m=\u001b[0m \u001b[0mBeautifulSoup\u001b[0m\u001b[0;34m(\u001b[0m\u001b[0mpage\u001b[0m\u001b[0;34m.\u001b[0m\u001b[0mtext\u001b[0m\u001b[0;34m,\u001b[0m \u001b[0;34m'html.parser'\u001b[0m\u001b[0;34m)\u001b[0m\u001b[0;34m\u001b[0m\u001b[0;34m\u001b[0m\u001b[0m\n\u001b[1;32m     24\u001b[0m \u001b[0;34m\u001b[0m\u001b[0m\n\u001b[0;32m---> 25\u001b[0;31m         \u001b[0mlyrics\u001b[0m \u001b[0;34m=\u001b[0m \u001b[0mhtml\u001b[0m\u001b[0;34m.\u001b[0m\u001b[0mfind\u001b[0m\u001b[0;34m(\u001b[0m\u001b[0;34m'div'\u001b[0m\u001b[0;34m,\u001b[0m \u001b[0mclass_\u001b[0m\u001b[0;34m=\u001b[0m\u001b[0;34m'lyrics'\u001b[0m\u001b[0;34m)\u001b[0m\u001b[0;34m.\u001b[0m\u001b[0mget_text\u001b[0m\u001b[0;34m(\u001b[0m\u001b[0;34m)\u001b[0m\u001b[0;34m\u001b[0m\u001b[0;34m\u001b[0m\u001b[0m\n\u001b[0m\u001b[1;32m     26\u001b[0m         \u001b[0;31m#remove identifiers like chorus, verse, etc\u001b[0m\u001b[0;34m\u001b[0m\u001b[0;34m\u001b[0m\u001b[0;34m\u001b[0m\u001b[0m\n\u001b[1;32m     27\u001b[0m         \u001b[0mlyrics\u001b[0m \u001b[0;34m=\u001b[0m \u001b[0mre\u001b[0m\u001b[0;34m.\u001b[0m\u001b[0msub\u001b[0m\u001b[0;34m(\u001b[0m\u001b[0;34mr'[\\(\\[].*?[\\)\\]]'\u001b[0m\u001b[0;34m,\u001b[0m \u001b[0;34m''\u001b[0m\u001b[0;34m,\u001b[0m \u001b[0mlyrics\u001b[0m\u001b[0;34m)\u001b[0m\u001b[0;34m\u001b[0m\u001b[0;34m\u001b[0m\u001b[0m\n",
      "\u001b[0;31mAttributeError\u001b[0m: 'NoneType' object has no attribute 'get_text'"
     ]
    }
   ],
   "source": [
    "request_song_lyrics('110' ,'Capital Bra, Samra & Lea')"
   ]
  },
  {
   "cell_type": "code",
   "execution_count": 120,
   "metadata": {},
   "outputs": [],
   "source": [
    "with open(\"song_list.data\", \"rb\") as f:   # Unpickling the song list\n",
    "    songs = pickle.load(f)"
   ]
  },
  {
   "cell_type": "code",
   "execution_count": 121,
   "metadata": {},
   "outputs": [],
   "source": [
    "lyrics = pd.DataFrame(columns=['artist', 'title', 'lyrics'])"
   ]
  },
  {
   "cell_type": "code",
   "execution_count": 122,
   "metadata": {},
   "outputs": [
    {
     "name": "stdout",
     "output_type": "stream",
     "text": [
      "Outkast feat The Way You Move\n",
      "Princess I'll Keep On Loving You\n",
      "Capital Bra Fightclub\n",
      "Jimmy Somerville Ain't No Mountain High Enough\n"
     ]
    }
   ],
   "source": [
    "test_run = songs[20:24]\n",
    "test_run\n",
    "lyrics = create_lyrics_df(lyrics, test_run)"
   ]
  },
  {
   "cell_type": "code",
   "execution_count": 123,
   "metadata": {},
   "outputs": [
    {
     "data": {
      "text/html": [
       "<div>\n",
       "<style scoped>\n",
       "    .dataframe tbody tr th:only-of-type {\n",
       "        vertical-align: middle;\n",
       "    }\n",
       "\n",
       "    .dataframe tbody tr th {\n",
       "        vertical-align: top;\n",
       "    }\n",
       "\n",
       "    .dataframe thead th {\n",
       "        text-align: right;\n",
       "    }\n",
       "</style>\n",
       "<table border=\"1\" class=\"dataframe\">\n",
       "  <thead>\n",
       "    <tr style=\"text-align: right;\">\n",
       "      <th></th>\n",
       "      <th>artist</th>\n",
       "      <th>title</th>\n",
       "      <th>lyrics</th>\n",
       "    </tr>\n",
       "  </thead>\n",
       "  <tbody>\n",
       "    <tr>\n",
       "      <th>0</th>\n",
       "      <td>Outkast feat. Sleepy Brown</td>\n",
       "      <td>The Way You Move</td>\n",
       "      <td>NaN</td>\n",
       "    </tr>\n",
       "    <tr>\n",
       "      <th>1</th>\n",
       "      <td>Princess</td>\n",
       "      <td>I'll Keep On Loving You</td>\n",
       "      <td>NaN</td>\n",
       "    </tr>\n",
       "    <tr>\n",
       "      <th>2</th>\n",
       "      <td>Capital Bra feat. Samra &amp; AK Ausserkontrolle</td>\n",
       "      <td>Fightclub</td>\n",
       "      <td>NaN</td>\n",
       "    </tr>\n",
       "    <tr>\n",
       "      <th>3</th>\n",
       "      <td>Jimmy Somerville</td>\n",
       "      <td>Ain't No Mountain High Enough</td>\n",
       "      <td>NaN</td>\n",
       "    </tr>\n",
       "  </tbody>\n",
       "</table>\n",
       "</div>"
      ],
      "text/plain": [
       "                                         artist  \\\n",
       "0                    Outkast feat. Sleepy Brown   \n",
       "1                                      Princess   \n",
       "2  Capital Bra feat. Samra & AK Ausserkontrolle   \n",
       "3                              Jimmy Somerville   \n",
       "\n",
       "                           title lyrics  \n",
       "0               The Way You Move    NaN  \n",
       "1        I'll Keep On Loving You    NaN  \n",
       "2                      Fightclub    NaN  \n",
       "3  Ain't No Mountain High Enough    NaN  "
      ]
     },
     "execution_count": 123,
     "metadata": {},
     "output_type": "execute_result"
    }
   ],
   "source": [
    "lyrics"
   ]
  },
  {
   "cell_type": "code",
   "execution_count": null,
   "metadata": {},
   "outputs": [],
   "source": [
    "for song in arr:\n",
    "    try:\n",
    "        artist_from_list = re.findall(r'\\w+', song)[0]   # artist name from song_list.data file\n",
    "\n",
    "        track = genius.search_song(song, artist_from_list)\n",
    "\n",
    "        artist_from_genius = re.findall(r'\\w+', track.artist)[0]    # artist name from genius\n",
    "\n",
    "        if artist_from_list.lower() != artist_from_genius.lower():   # compare first word in artist name\n",
    "            l = np.NaN\n",
    "        else:\n",
    "            l = track.lyrics\n",
    "            l = re.sub(r'[\\(\\[].*?[\\)\\]]', '', l)\n",
    "            l = re.sub('\\n', ' ', l)\n",
    "\n",
    "    except:\n",
    "        l = np.NaN\n",
    "\n",
    "    df = df.append({'title': song, 'lyrics': l}, ignore_index=True)\n",
    "        \n",
    "    return df"
   ]
  },
  {
   "cell_type": "code",
   "execution_count": null,
   "metadata": {},
   "outputs": [],
   "source": []
  },
  {
   "cell_type": "code",
   "execution_count": null,
   "metadata": {},
   "outputs": [],
   "source": []
  },
  {
   "cell_type": "code",
   "execution_count": null,
   "metadata": {},
   "outputs": [],
   "source": [
    "import lyricsgenius as lg\n",
    "\n",
    "genius = lg.Genius(GENIUS_API_TOKEN,  # Client access token from Genius Client API page\n",
    "                             skip_non_songs=True,\n",
    "                             remove_section_headers=True)"
   ]
  },
  {
   "cell_type": "code",
   "execution_count": null,
   "metadata": {},
   "outputs": [],
   "source": [
    "file = open(\"./lyrics_1.txt\", \"w\")  # File to write lyrics to\n",
    "\n",
    "artists = ['ABBA']\n",
    "\n",
    "\n",
    "def get_lyrics(arr, k):  # Write lyrics of k songs by each artist in arr\n",
    "    c = 0  # Counter\n",
    "    for name in arr:\n",
    "        try:\n",
    "            songs = (genius.search_artist(name, max_songs=k, sort='popularity')).songs\n",
    "            s = [song.lyrics for song in songs]\n",
    "            file.write(\"\\n \\n   <|endoftext|>   \\n \\n\".join(s))  # Deliminator\n",
    "            c += 1\n",
    "            print(f\"Songs grabbed:{len(s)}\")\n",
    "        except:  #  Broad catch which will give us the name of artist and song that threw the exception\n",
    "            print(f\"some exception at {name}: {c}\")\n",
    "\n",
    "\n",
    "get_lyrics(artists, 3)"
   ]
  },
  {
   "cell_type": "code",
   "execution_count": null,
   "metadata": {},
   "outputs": [],
   "source": [
    "import numpy as np\n",
    "import pandas as pd\n",
    "import pickle"
   ]
  },
  {
   "cell_type": "code",
   "execution_count": null,
   "metadata": {},
   "outputs": [],
   "source": [
    "with open(\"song_list.data\", \"rb\") as f:   # Unpickling the song list\n",
    "    songs = pickle.load(f)"
   ]
  },
  {
   "cell_type": "code",
   "execution_count": null,
   "metadata": {},
   "outputs": [],
   "source": [
    "test_run = songs[25:30]"
   ]
  },
  {
   "cell_type": "code",
   "execution_count": null,
   "metadata": {},
   "outputs": [],
   "source": [
    "lyrics = pd.DataFrame(columns=['title', 'lyrics'])"
   ]
  },
  {
   "cell_type": "code",
   "execution_count": null,
   "metadata": {},
   "outputs": [],
   "source": [
    "def get_lyrics(df, arr):  # Write lyrics of k songs by each artist in arr\n",
    "    for song in arr:\n",
    "        \n",
    "        try:\n",
    "            artist_from_list = re.findall(r'\\w+', song)[0]   # artist name from song_list.data file\n",
    "            \n",
    "            track = genius.search_song(song, artist_from_list)\n",
    "            \n",
    "            artist_from_genius = re.findall(r'\\w+', track.artist)[0]    # artist name from genius\n",
    "\n",
    "            if artist_from_list.lower() != artist_from_genius.lower():   # compare first word in artist name\n",
    "                l = np.NaN\n",
    "            else:\n",
    "                l = track.lyrics\n",
    "                l = re.sub(r'[\\(\\[].*?[\\)\\]]', '', l)\n",
    "                l = re.sub('\\n', ' ', l)\n",
    "            \n",
    "        except:\n",
    "            l = np.NaN\n",
    "            \n",
    "        df = df.append({'title': song, 'lyrics': l}, ignore_index=True)\n",
    "        \n",
    "    return df"
   ]
  },
  {
   "cell_type": "code",
   "execution_count": null,
   "metadata": {},
   "outputs": [],
   "source": [
    "lyrics = get_lyrics(lyrics, test_run)"
   ]
  },
  {
   "cell_type": "code",
   "execution_count": null,
   "metadata": {},
   "outputs": [],
   "source": [
    "lyrics"
   ]
  },
  {
   "cell_type": "code",
   "execution_count": null,
   "metadata": {},
   "outputs": [],
   "source": [
    "lyrics = get_lyrics(lyrics, ['Angel One - Hold Me Tonight'])"
   ]
  },
  {
   "cell_type": "code",
   "execution_count": null,
   "metadata": {},
   "outputs": [],
   "source": [
    "lyrics"
   ]
  },
  {
   "cell_type": "code",
   "execution_count": null,
   "metadata": {},
   "outputs": [],
   "source": [
    "lyrics = get_lyrics(lyrics, ['Capital Bra x Samra & Lea - 110'])"
   ]
  },
  {
   "cell_type": "code",
   "execution_count": null,
   "metadata": {},
   "outputs": [],
   "source": [
    "lyrics"
   ]
  },
  {
   "cell_type": "code",
   "execution_count": null,
   "metadata": {},
   "outputs": [],
   "source": []
  }
 ],
 "metadata": {
  "kernelspec": {
   "display_name": "Python 3",
   "language": "python",
   "name": "python3"
  },
  "language_info": {
   "codemirror_mode": {
    "name": "ipython",
    "version": 3
   },
   "file_extension": ".py",
   "mimetype": "text/x-python",
   "name": "python",
   "nbconvert_exporter": "python",
   "pygments_lexer": "ipython3",
   "version": "3.6.10"
  }
 },
 "nbformat": 4,
 "nbformat_minor": 4
}
